{
  "nbformat": 4,
  "nbformat_minor": 0,
  "metadata": {
    "colab": {
      "provenance": [],
      "include_colab_link": true
    },
    "kernelspec": {
      "name": "python3",
      "display_name": "Python 3"
    },
    "language_info": {
      "name": "python"
    }
  },
  "cells": [
    {
      "cell_type": "markdown",
      "metadata": {
        "id": "view-in-github",
        "colab_type": "text"
      },
      "source": [
        "<a href=\"https://colab.research.google.com/github/shawn467258/introduction-to-Computers--Public-/blob/main/0517.ipynb\" target=\"_parent\"><img src=\"https://colab.research.google.com/assets/colab-badge.svg\" alt=\"Open In Colab\"/></a>"
      ]
    },
    {
      "cell_type": "code",
      "execution_count": null,
      "metadata": {
        "colab": {
          "base_uri": "https://localhost:8080/"
        },
        "id": "Ec1HnGKD3SsK",
        "outputId": "b98d35f8-6e26-47bc-8a8c-00b5a4ac177a"
      },
      "outputs": [
        {
          "output_type": "stream",
          "name": "stdout",
          "text": [
            "今天會下雨嗎？Y\n",
            "記得帶傘\n"
          ]
        }
      ],
      "source": [
        "rain=str(input(\"今天會下雨嗎？\"))\n",
        "if (rain==\"Y\"or rain==\"y\"):\n",
        "  print('記得帶傘')\n",
        "elif(rain==\"N\"or rain==\"n\"):\n",
        "  print('不用帶傘')\n",
        "else:\n",
        "  print(\"輸入錯誤請重新輸入\")"
      ]
    },
    {
      "cell_type": "code",
      "source": [
        "a=float(input(\"請輸入體溫:\"))\n",
        "if a>=37.5:\n",
        "  print(\"體溫過高!\")\n",
        "elif a>=37 and a<=37.4:\n",
        "  print(\"體溫略高!\")\n",
        "elif a>=34 and a<=36.9:\n",
        "  print(\"體溫正常!\")\n",
        "else:\n",
        "  print(\"體溫異常，請重新測量!\")\n"
      ],
      "metadata": {
        "id": "vToNsVgK4C93",
        "colab": {
          "base_uri": "https://localhost:8080/"
        },
        "outputId": "a56d101e-b4ff-4930-a943-e136081d57d3"
      },
      "execution_count": null,
      "outputs": [
        {
          "output_type": "stream",
          "name": "stdout",
          "text": [
            "請輸入體溫:33\n",
            "體溫異常，請重新測量!\n"
          ]
        }
      ]
    },
    {
      "cell_type": "code",
      "source": [
        "month=int(input(\"請輸入月份:\"))\n",
        "if month>=3 and month<=5:\n",
        "  print(month,\"月是春天!\")\n",
        "elif month>=6 and month<=8:\n",
        "  print(month,\"月是夏天!\")\n",
        "elif month>=9 and month<=11:\n",
        "  print(month,\"月秋天!\")\n",
        "elif month==12 or month<=2:\n",
        "  print(month,\"月是冬天!\")\n",
        "else:\n",
        "  print(\"月份不在範圍內!\")"
      ],
      "metadata": {
        "colab": {
          "base_uri": "https://localhost:8080/"
        },
        "id": "t-4w2nTq5ryl",
        "outputId": "fb1807e9-9060-401f-9b85-6f470fb34465"
      },
      "execution_count": null,
      "outputs": [
        {
          "output_type": "stream",
          "name": "stdout",
          "text": [
            "請輸入月份:4\n",
            "4 月是春天!\n"
          ]
        }
      ]
    },
    {
      "cell_type": "code",
      "source": [
        "tax=int(input(\"請輸入今年收入淨額\"))\n",
        "if tax>=2000000:\n",
        "  print(\"付稅金額:\",tax*0.3,\"元\")\n",
        "elif tax>=1000000 and tax<2000000:\n",
        "  print(\"付稅金額:\",tax*0.21,\"元\")\n",
        "elif tax>=600000 and tax<1000000:\n",
        "  print(\"付稅金額:\",tax*0.13,\"元\")\n",
        "elif tax>=300000 and tax<600000:\n",
        "  print(\"付稅金額:\",tax*0.06,\"元\")  \n",
        "else:\n",
        "  print(\"付稅金額:0元\")"
      ],
      "metadata": {
        "colab": {
          "base_uri": "https://localhost:8080/"
        },
        "id": "UteDAgnm7Vd2",
        "outputId": "e0d9947d-681a-40c1-f269-ddd85281fdb5"
      },
      "execution_count": null,
      "outputs": [
        {
          "output_type": "stream",
          "name": "stdout",
          "text": [
            "請輸入今年收入淨額100000\n",
            "付稅金額:0元\n"
          ]
        }
      ]
    },
    {
      "cell_type": "code",
      "source": [
        "score = int(input(\"score: \"))\n",
        "if score >= 90:\n",
        "    print('Grade is: A')\n",
        "elif score >= 80:\n",
        "    print('Grade is: B')\n",
        "elif score >= 70:\n",
        "    print('Grade is: C')\n",
        "elif score >= 60:\n",
        "    print('Grade is: D')\n",
        "else:\n",
        "    print('Grade is: F')\n"
      ],
      "metadata": {
        "colab": {
          "base_uri": "https://localhost:8080/"
        },
        "id": "HbTOZ4G58M7D",
        "outputId": "e93fda90-cf6b-482c-a679-bebd7ca4999e"
      },
      "execution_count": null,
      "outputs": [
        {
          "output_type": "stream",
          "name": "stdout",
          "text": [
            "score: 40\n",
            "Grade is: F\n"
          ]
        }
      ]
    },
    {
      "cell_type": "code",
      "source": [
        "score = int(input(\"請輸入成績\"))\n",
        "if score >= 90:\n",
        "    print('A')\n",
        "elif score >= 80:\n",
        "    print('B')\n",
        "elif score >= 70:\n",
        "    print('C')\n",
        "elif score >= 60:\n",
        "    print('D')\n",
        "else:\n",
        "    print('E')"
      ],
      "metadata": {
        "colab": {
          "base_uri": "https://localhost:8080/"
        },
        "id": "jpFf6wqw-YUn",
        "outputId": "1707011a-b15b-40b3-ae58-4bbb32af17a1"
      },
      "execution_count": null,
      "outputs": [
        {
          "output_type": "stream",
          "name": "stdout",
          "text": [
            "請輸入成績40\n",
            "E\n"
          ]
        }
      ]
    }
  ]
}